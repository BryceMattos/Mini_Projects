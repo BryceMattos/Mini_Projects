{
 "cells": [
  {
   "cell_type": "markdown",
   "id": "d5bba638",
   "metadata": {},
   "source": [
    "# Apple Price Change v. Industry Change\n",
    "----------"
   ]
  },
  {
   "cell_type": "markdown",
   "id": "75cc367d",
   "metadata": {},
   "source": [
    "**Question**: How does the price of an Apple compare to the price of its industry (all fruit) over recent years?\n",
    "\n",
    "----\n",
    "**Method**: Pairing weekly growth of apple prices with weekly growth of market prices for all fruit."
   ]
  },
  {
   "cell_type": "markdown",
   "id": "3c2e80d3",
   "metadata": {},
   "source": [
    "Importing libraries I may use"
   ]
  },
  {
   "cell_type": "code",
   "execution_count": 110,
   "id": "3002d703",
   "metadata": {},
   "outputs": [],
   "source": [
    "import pandas as pd\n",
    "import numpy as np\n",
    "import seaborn as sns\n",
    "import matplotlib.pyplot as plt\n",
    "import scipy.stats as stats\n",
    "import statsmodels.api as sm"
   ]
  },
  {
   "cell_type": "markdown",
   "id": "102d2aa4",
   "metadata": {},
   "source": [
    "---\n",
    "Creating Apples Dataframe\n"
   ]
  },
  {
   "cell_type": "code",
   "execution_count": 55,
   "id": "cbba7985",
   "metadata": {},
   "outputs": [
    {
     "data": {
      "text/html": [
       "<div>\n",
       "<style scoped>\n",
       "    .dataframe tbody tr th:only-of-type {\n",
       "        vertical-align: middle;\n",
       "    }\n",
       "\n",
       "    .dataframe tbody tr th {\n",
       "        vertical-align: top;\n",
       "    }\n",
       "\n",
       "    .dataframe thead th {\n",
       "        text-align: right;\n",
       "    }\n",
       "</style>\n",
       "<table border=\"1\" class=\"dataframe\">\n",
       "  <thead>\n",
       "    <tr style=\"text-align: right;\">\n",
       "      <th></th>\n",
       "      <th>Date</th>\n",
       "      <th>Percent Change</th>\n",
       "    </tr>\n",
       "  </thead>\n",
       "  <tbody>\n",
       "    <tr>\n",
       "      <th>0</th>\n",
       "      <td>2020-05-02 00:00:00</td>\n",
       "      <td>0</td>\n",
       "    </tr>\n",
       "    <tr>\n",
       "      <th>1</th>\n",
       "      <td>2020-05-09 00:00:00</td>\n",
       "      <td>-0.14069</td>\n",
       "    </tr>\n",
       "    <tr>\n",
       "      <th>2</th>\n",
       "      <td>2020-05-16 00:00:00</td>\n",
       "      <td>-0.003032</td>\n",
       "    </tr>\n",
       "    <tr>\n",
       "      <th>3</th>\n",
       "      <td>2020-05-23 00:00:00</td>\n",
       "      <td>-0.034884</td>\n",
       "    </tr>\n",
       "    <tr>\n",
       "      <th>4</th>\n",
       "      <td>2020-05-30 00:00:00</td>\n",
       "      <td>0.124189</td>\n",
       "    </tr>\n",
       "    <tr>\n",
       "      <th>...</th>\n",
       "      <td>...</td>\n",
       "      <td>...</td>\n",
       "    </tr>\n",
       "    <tr>\n",
       "      <th>97</th>\n",
       "      <td>2022-03-26 00:00:00</td>\n",
       "      <td>0.056338</td>\n",
       "    </tr>\n",
       "    <tr>\n",
       "      <th>98</th>\n",
       "      <td>2022-04-02 00:00:00</td>\n",
       "      <td>0.06455</td>\n",
       "    </tr>\n",
       "    <tr>\n",
       "      <th>99</th>\n",
       "      <td>2022-04-09 00:00:00</td>\n",
       "      <td>-0.032008</td>\n",
       "    </tr>\n",
       "    <tr>\n",
       "      <th>100</th>\n",
       "      <td>2022-04-16 00:00:00</td>\n",
       "      <td>0.167248</td>\n",
       "    </tr>\n",
       "    <tr>\n",
       "      <th>101</th>\n",
       "      <td>2022-04-23 00:00:00</td>\n",
       "      <td>-0.241056</td>\n",
       "    </tr>\n",
       "  </tbody>\n",
       "</table>\n",
       "<p>102 rows × 2 columns</p>\n",
       "</div>"
      ],
      "text/plain": [
       "                    Date Percent Change\n",
       "0    2020-05-02 00:00:00              0\n",
       "1    2020-05-09 00:00:00       -0.14069\n",
       "2    2020-05-16 00:00:00      -0.003032\n",
       "3    2020-05-23 00:00:00      -0.034884\n",
       "4    2020-05-30 00:00:00       0.124189\n",
       "..                   ...            ...\n",
       "97   2022-03-26 00:00:00       0.056338\n",
       "98   2022-04-02 00:00:00        0.06455\n",
       "99   2022-04-09 00:00:00      -0.032008\n",
       "100  2022-04-16 00:00:00       0.167248\n",
       "101  2022-04-23 00:00:00      -0.241056\n",
       "\n",
       "[102 rows x 2 columns]"
      ]
     },
     "execution_count": 55,
     "metadata": {},
     "output_type": "execute_result"
    }
   ],
   "source": [
    "apple_data = pd.read_excel(r'C:\\Users\\bryce\\Downloads\\Apple_Price _Data.xlsx')\n",
    "apple_df = pd.DataFrame(apple_data, columns=['Unnamed: 1', 'Unnamed: 4'])\n",
    "apple_df.drop(0, inplace=True)\n",
    "apple_df.rename(columns={'Unnamed: 1':'Date', 'Unnamed: 4':'Percent Change'}, inplace=True)\n",
    "apple_df.replace('', np.nan, regex=True)\n",
    "apple_df=apple_df.dropna()\n",
    "apple_df.reset_index(drop=True, inplace=True)\n",
    "apple_df"
   ]
  },
  {
   "cell_type": "markdown",
   "id": "61460a84",
   "metadata": {},
   "source": [
    "---\n",
    "Creating Dataframe for the Industry\n"
   ]
  },
  {
   "cell_type": "code",
   "execution_count": 58,
   "id": "ae3de6d0",
   "metadata": {},
   "outputs": [
    {
     "data": {
      "text/html": [
       "<div>\n",
       "<style scoped>\n",
       "    .dataframe tbody tr th:only-of-type {\n",
       "        vertical-align: middle;\n",
       "    }\n",
       "\n",
       "    .dataframe tbody tr th {\n",
       "        vertical-align: top;\n",
       "    }\n",
       "\n",
       "    .dataframe thead th {\n",
       "        text-align: right;\n",
       "    }\n",
       "</style>\n",
       "<table border=\"1\" class=\"dataframe\">\n",
       "  <thead>\n",
       "    <tr style=\"text-align: right;\">\n",
       "      <th></th>\n",
       "      <th>Date</th>\n",
       "      <th>Percent Change</th>\n",
       "    </tr>\n",
       "  </thead>\n",
       "  <tbody>\n",
       "    <tr>\n",
       "      <th>0</th>\n",
       "      <td>2020-05-02 00:00:00</td>\n",
       "      <td>0</td>\n",
       "    </tr>\n",
       "    <tr>\n",
       "      <th>1</th>\n",
       "      <td>2020-05-09 00:00:00</td>\n",
       "      <td>-0.374384</td>\n",
       "    </tr>\n",
       "    <tr>\n",
       "      <th>2</th>\n",
       "      <td>2020-05-16 00:00:00</td>\n",
       "      <td>0.149322</td>\n",
       "    </tr>\n",
       "    <tr>\n",
       "      <th>3</th>\n",
       "      <td>2020-05-23 00:00:00</td>\n",
       "      <td>-0.126806</td>\n",
       "    </tr>\n",
       "    <tr>\n",
       "      <th>4</th>\n",
       "      <td>2020-05-30 00:00:00</td>\n",
       "      <td>0.10359</td>\n",
       "    </tr>\n",
       "    <tr>\n",
       "      <th>...</th>\n",
       "      <td>...</td>\n",
       "      <td>...</td>\n",
       "    </tr>\n",
       "    <tr>\n",
       "      <th>97</th>\n",
       "      <td>2022-03-26 00:00:00</td>\n",
       "      <td>0.008505</td>\n",
       "    </tr>\n",
       "    <tr>\n",
       "      <th>98</th>\n",
       "      <td>2022-04-02 00:00:00</td>\n",
       "      <td>0.093702</td>\n",
       "    </tr>\n",
       "    <tr>\n",
       "      <th>99</th>\n",
       "      <td>2022-04-09 00:00:00</td>\n",
       "      <td>0.021615</td>\n",
       "    </tr>\n",
       "    <tr>\n",
       "      <th>100</th>\n",
       "      <td>2022-04-16 00:00:00</td>\n",
       "      <td>0.047513</td>\n",
       "    </tr>\n",
       "    <tr>\n",
       "      <th>101</th>\n",
       "      <td>2022-04-23 00:00:00</td>\n",
       "      <td>-0.116755</td>\n",
       "    </tr>\n",
       "  </tbody>\n",
       "</table>\n",
       "<p>102 rows × 2 columns</p>\n",
       "</div>"
      ],
      "text/plain": [
       "                    Date Percent Change\n",
       "0    2020-05-02 00:00:00              0\n",
       "1    2020-05-09 00:00:00      -0.374384\n",
       "2    2020-05-16 00:00:00       0.149322\n",
       "3    2020-05-23 00:00:00      -0.126806\n",
       "4    2020-05-30 00:00:00        0.10359\n",
       "..                   ...            ...\n",
       "97   2022-03-26 00:00:00       0.008505\n",
       "98   2022-04-02 00:00:00       0.093702\n",
       "99   2022-04-09 00:00:00       0.021615\n",
       "100  2022-04-16 00:00:00       0.047513\n",
       "101  2022-04-23 00:00:00      -0.116755\n",
       "\n",
       "[102 rows x 2 columns]"
      ]
     },
     "execution_count": 58,
     "metadata": {},
     "output_type": "execute_result"
    }
   ],
   "source": [
    "industry_data = pd.read_excel(r'C:\\Users\\bryce\\Downloads\\Fruit_Price_Data.xlsx')\n",
    "industry_df = pd.DataFrame(industry_data, columns=['Unnamed: 1', 'Unnamed: 6'])\n",
    "industry_df.drop(0, inplace=True)\n",
    "industry_df.rename(columns={'Unnamed: 1':'Date', 'Unnamed: 6':'Percent Change'}, inplace=True)\n",
    "industry_df.replace('', np.nan, regex=True)\n",
    "industry_df=industry_df.dropna()\n",
    "industry_df.reset_index(drop=True, inplace=True)\n",
    "industry_df"
   ]
  },
  {
   "cell_type": "markdown",
   "id": "760cf42c",
   "metadata": {},
   "source": [
    "Graphing the changes against eachother"
   ]
  },
  {
   "cell_type": "code",
   "execution_count": 202,
   "id": "398ac95d",
   "metadata": {
    "scrolled": false
   },
   "outputs": [
    {
     "data": {
      "image/png": "[encoded data removed]",
      "text/plain": [
       "<Figure size 640x480 with 1 Axes>"
      ]
     },
     "metadata": {},
     "output_type": "display_data"
    }
   ],
   "source": [
    "plt.scatter(y=apple_df['Percent Change'], x=industry_df['Percent Change'])\n",
    "plt.title('Apple Price vs. Industry (May 2020 - Apr 2022)')\n",
    "plt.xlabel('Industry Price Change')\n",
    "plt.ylabel('Apple Price Change')\n",
    "plt.xlim(-0.4, 0.4)\n",
    "plt.ylim(-0.4, 0.4)\n",
    "plt.plot([-0.4,.4], [-0.4,.4], color='orange')\n",
    "plt.show()"
   ]
  },
  {
   "cell_type": "markdown",
   "id": "b113fdca",
   "metadata": {},
   "source": [
    "Since every row in the Apple dataframe corresponded with their relative row in the Industry dataframe, we could chart them against eachother to see their relationship."
   ]
  },
  {
   "cell_type": "markdown",
   "id": "ad3ecf03",
   "metadata": {},
   "source": [
    "The orange line would represent a data point where the change in the price of an apple in a week was equal to that of the market. Therefore, points below that line represents a week where the price of an apple \"underperformed\" by comparison and a point above the line is a week where they \"overperformed.\" The greater the deviation, the greater the difference in performance."
   ]
  }
 ],
 "metadata": {
  "kernelspec": {
   "display_name": "Python 3 (ipykernel)",
   "language": "python",
   "name": "python3"
  },
  "language_info": {
   "codemirror_mode": {
    "name": "ipython",
    "version": 3
   },
   "file_extension": ".py",
   "mimetype": "text/x-python",
   "name": "python",
   "nbconvert_exporter": "python",
   "pygments_lexer": "ipython3",
   "version": "3.9.13"
  }
 },
 "nbformat": 4,
 "nbformat_minor": 5
}
